{
 "cells": [
  {
   "cell_type": "code",
   "execution_count": null,
   "id": "28ff85b7-2580-43ac-8c68-ae950b9a1ff5",
   "metadata": {},
   "outputs": [],
   "source": []
  }
 ],
 "metadata": {
  "kernelspec": {
   "display_name": "",
   "name": ""
  },
  "language_info": {
   "name": ""
  }
 },
 "nbformat": 4,
 "nbformat_minor": 5
}
